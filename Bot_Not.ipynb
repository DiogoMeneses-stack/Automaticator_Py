{
 "cells": [
  {
   "cell_type": "code",
   "execution_count": 72,
   "id": "a97ff6a9",
   "metadata": {},
   "outputs": [],
   "source": [
    "'''BOT no PC'''\n",
    "import pyautogui\n",
    "\n",
    "pyautogui.PAUSE = 2\n",
    "\n",
    "pyautogui.press(\"win\")\n",
    "pyautogui.write(\"Login.xlsx\")\n",
    "pyautogui.press(\"backspace\")\n",
    "pyautogui.press(\"enter\")\n",
    "\n",
    "pyautogui.click(x=497, y=268)\n",
    "\n",
    "pyautogui.write(\"Tudo Ok !!!\")\n",
    "\n",
    "pyautogui.click(x=506, y=327)\n",
    "pyautogui.write(\"Tudo Funcionando.\")\n",
    "\n",
    "pyautogui.click(x=513, y=459)\n",
    "\n",
    "pyautogui.click(x=516, y=558)\n",
    "pyautogui.PAUSE = 1\n",
    "\n",
    "pyautogui.click(x=409, y=399)\n",
    "\n",
    "pyautogui.click(x=616, y=404)\n",
    "pyautogui.write(\"Fim do Programa.\")"
   ]
  },
  {
   "cell_type": "code",
   "execution_count": 66,
   "id": "7c248405",
   "metadata": {},
   "outputs": [
    {
     "data": {
      "text/plain": [
       "Point(x=409, y=399)"
      ]
     },
     "execution_count": 66,
     "metadata": {},
     "output_type": "execute_result"
    }
   ],
   "source": [
    "import time\n",
    "\n",
    "time.sleep(3)\n",
    "pyautogui.position()"
   ]
  },
  {
   "cell_type": "code",
   "execution_count": null,
   "id": "dc36195e",
   "metadata": {},
   "outputs": [],
   "source": []
  }
 ],
 "metadata": {
  "kernelspec": {
   "display_name": "Python 3 (ipykernel)",
   "language": "python",
   "name": "python3"
  },
  "language_info": {
   "codemirror_mode": {
    "name": "ipython",
    "version": 3
   },
   "file_extension": ".py",
   "mimetype": "text/x-python",
   "name": "python",
   "nbconvert_exporter": "python",
   "pygments_lexer": "ipython3",
   "version": "3.9.13"
  }
 },
 "nbformat": 4,
 "nbformat_minor": 5
}
